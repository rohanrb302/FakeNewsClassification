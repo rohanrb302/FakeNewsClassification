{
  "nbformat": 4,
  "nbformat_minor": 0,
  "metadata": {
    "colab": {
      "name": "Implemenation_LogisticRegression.ipynb",
      "provenance": [],
      "authorship_tag": "ABX9TyPqRSLNDaBMDcoxngFLavFl",
      "include_colab_link": true
    },
    "kernelspec": {
      "name": "python3",
      "display_name": "Python 3"
    }
  },
  "cells": [
    {
      "cell_type": "markdown",
      "metadata": {
        "id": "view-in-github",
        "colab_type": "text"
      },
      "source": [
        "<a href=\"https://colab.research.google.com/github/rohanrb302/FakeNewsClassification/blob/master/Implemenation_LogisticRegression.ipynb\" target=\"_parent\"><img src=\"https://colab.research.google.com/assets/colab-badge.svg\" alt=\"Open In Colab\"/></a>"
      ]
    },
    {
      "cell_type": "code",
      "metadata": {
        "id": "A1bSxx8V2kn6",
        "colab_type": "code",
        "colab": {}
      },
      "source": [
        "import numpy as np\n",
        "import pandas as pd\n",
        "%matplotlib inline\n",
        "import matplotlib.pyplot as plt\n",
        "from sklearn.model_selection import cross_validate\n",
        "from sklearn.model_selection import train_test_split\n",
        "from sklearn.feature_extraction.text import TfidfVectorizer\n",
        "from sklearn.linear_model import LogisticRegression\n",
        "\n",
        "from sklearn.feature_extraction.stop_words import ENGLISH_STOP_WORDS\n",
        "from sklearn.metrics import f1_score, accuracy_score , recall_score , precision_score\n",
        "import matplotlib.pyplot as plt"
      ],
      "execution_count": 0,
      "outputs": []
    },
    {
      "cell_type": "code",
      "metadata": {
        "id": "NlX3fIQ82p3b",
        "colab_type": "code",
        "colab": {}
      },
      "source": [
        "MAX_SEQUENCE_LENGTH = 5000\n",
        "MAX_NUM_WORDS = 25000\n",
        "EMBEDDING_DIM = 300\n",
        "TEST_SPLIT = 0.25"
      ],
      "execution_count": 0,
      "outputs": []
    },
    {
      "cell_type": "code",
      "metadata": {
        "id": "uq1F1tQN2tOO",
        "colab_type": "code",
        "colab": {
          "base_uri": "https://localhost:8080/",
          "height": 34
        },
        "outputId": "de7adf63-9249-484e-e718-3fbd848fe1a1"
      },
      "source": [
        "df = pd.read_csv(\"https://s3.amazonaws.com/assets.datacamp.com/blog_assets/fake_or_real_news.csv\")\n",
        "df.columns"
      ],
      "execution_count": 17,
      "outputs": [
        {
          "output_type": "execute_result",
          "data": {
            "text/plain": [
              "Index(['Unnamed: 0', 'title', 'text', 'label'], dtype='object')"
            ]
          },
          "metadata": {
            "tags": []
          },
          "execution_count": 17
        }
      ]
    },
    {
      "cell_type": "code",
      "metadata": {
        "id": "vAH4JWtu2wo5",
        "colab_type": "code",
        "colab": {}
      },
      "source": [
        "df.drop(labels=['title','Unnamed: 0'], axis='columns', inplace=True)\n",
        "# only select stories with lengths gt 0 -- there are some texts with len = 0\n",
        "mask = list(df['text'].apply(lambda x: len(x) > 0))\n",
        "df = df[mask]"
      ],
      "execution_count": 0,
      "outputs": []
    },
    {
      "cell_type": "code",
      "metadata": {
        "id": "WhJP5wCB23bj",
        "colab_type": "code",
        "colab": {
          "base_uri": "https://localhost:8080/",
          "height": 204
        },
        "outputId": "e26eba78-348d-4133-80d7-12322a2da0dd"
      },
      "source": [
        "df.head()"
      ],
      "execution_count": 19,
      "outputs": [
        {
          "output_type": "execute_result",
          "data": {
            "text/html": [
              "<div>\n",
              "<style scoped>\n",
              "    .dataframe tbody tr th:only-of-type {\n",
              "        vertical-align: middle;\n",
              "    }\n",
              "\n",
              "    .dataframe tbody tr th {\n",
              "        vertical-align: top;\n",
              "    }\n",
              "\n",
              "    .dataframe thead th {\n",
              "        text-align: right;\n",
              "    }\n",
              "</style>\n",
              "<table border=\"1\" class=\"dataframe\">\n",
              "  <thead>\n",
              "    <tr style=\"text-align: right;\">\n",
              "      <th></th>\n",
              "      <th>text</th>\n",
              "      <th>label</th>\n",
              "    </tr>\n",
              "  </thead>\n",
              "  <tbody>\n",
              "    <tr>\n",
              "      <th>0</th>\n",
              "      <td>Daniel Greenfield, a Shillman Journalism Fello...</td>\n",
              "      <td>FAKE</td>\n",
              "    </tr>\n",
              "    <tr>\n",
              "      <th>1</th>\n",
              "      <td>Google Pinterest Digg Linkedin Reddit Stumbleu...</td>\n",
              "      <td>FAKE</td>\n",
              "    </tr>\n",
              "    <tr>\n",
              "      <th>2</th>\n",
              "      <td>U.S. Secretary of State John F. Kerry said Mon...</td>\n",
              "      <td>REAL</td>\n",
              "    </tr>\n",
              "    <tr>\n",
              "      <th>3</th>\n",
              "      <td>— Kaydee King (@KaydeeKing) November 9, 2016 T...</td>\n",
              "      <td>FAKE</td>\n",
              "    </tr>\n",
              "    <tr>\n",
              "      <th>4</th>\n",
              "      <td>It's primary day in New York and front-runners...</td>\n",
              "      <td>REAL</td>\n",
              "    </tr>\n",
              "  </tbody>\n",
              "</table>\n",
              "</div>"
            ],
            "text/plain": [
              "                                                text label\n",
              "0  Daniel Greenfield, a Shillman Journalism Fello...  FAKE\n",
              "1  Google Pinterest Digg Linkedin Reddit Stumbleu...  FAKE\n",
              "2  U.S. Secretary of State John F. Kerry said Mon...  REAL\n",
              "3  — Kaydee King (@KaydeeKing) November 9, 2016 T...  FAKE\n",
              "4  It's primary day in New York and front-runners...  REAL"
            ]
          },
          "metadata": {
            "tags": []
          },
          "execution_count": 19
        }
      ]
    },
    {
      "cell_type": "code",
      "metadata": {
        "id": "EzmVquFr3djb",
        "colab_type": "code",
        "colab": {}
      },
      "source": [
        "from sklearn.metrics import accuracy_score\n",
        "\n",
        "def evaluate_model(predict_fun, X_train, y_train, X_test, y_test):\n",
        "    '''\n",
        "    evaluate the model, both training and testing errors are reported\n",
        "    '''\n",
        "    # training error\n",
        "    y_predict_train = predict_fun(X_train)\n",
        "    train_acc = accuracy_score(y_train,y_predict_train)\n",
        "    \n",
        "    # testing error\n",
        "    y_predict_test = predict_fun(X_test)\n",
        "    test_acc = accuracy_score(y_test,y_predict_test)\n",
        "    \n",
        "    return train_acc, test_acc"
      ],
      "execution_count": 0,
      "outputs": []
    },
    {
      "cell_type": "code",
      "metadata": {
        "id": "krNgEeUp4xRx",
        "colab_type": "code",
        "colab": {
          "base_uri": "https://localhost:8080/",
          "height": 34
        },
        "outputId": "29721a9f-0e74-4c98-a205-03d8d3617d0d"
      },
      "source": [
        "texts = df['text']\n",
        "labels = df['label']\n",
        "\n",
        "print('Found %s texts.' %texts.shape[0])"
      ],
      "execution_count": 21,
      "outputs": [
        {
          "output_type": "stream",
          "text": [
            "Found 6335 texts.\n"
          ],
          "name": "stdout"
        }
      ]
    },
    {
      "cell_type": "code",
      "metadata": {
        "id": "x1XzwqZx5M6S",
        "colab_type": "code",
        "colab": {}
      },
      "source": [
        "from sklearn.ensemble import RandomForestClassifier"
      ],
      "execution_count": 0,
      "outputs": []
    },
    {
      "cell_type": "code",
      "metadata": {
        "id": "uT23WV4N9Zg2",
        "colab_type": "code",
        "colab": {}
      },
      "source": [
        "tfidf = TfidfVectorizer(stop_words=ENGLISH_STOP_WORDS,ngram_range=(1,2),max_df= 0.85, min_df= 0.01)"
      ],
      "execution_count": 0,
      "outputs": []
    },
    {
      "cell_type": "code",
      "metadata": {
        "id": "4ZOMb__u9oDg",
        "colab_type": "code",
        "colab": {}
      },
      "source": [
        "X_body_tfidf = tfidf.fit_transform(texts)\n"
      ],
      "execution_count": 0,
      "outputs": []
    },
    {
      "cell_type": "code",
      "metadata": {
        "id": "SkdFDlHr_6FM",
        "colab_type": "code",
        "colab": {
          "base_uri": "https://localhost:8080/",
          "height": 34
        },
        "outputId": "4d19ee04-640f-4bde-e7ed-d80587fe69f4"
      },
      "source": [
        "type(X_body_tfidf)"
      ],
      "execution_count": 29,
      "outputs": [
        {
          "output_type": "execute_result",
          "data": {
            "text/plain": [
              "scipy.sparse.csr.csr_matrix"
            ]
          },
          "metadata": {
            "tags": []
          },
          "execution_count": 29
        }
      ]
    },
    {
      "cell_type": "code",
      "metadata": {
        "id": "nvIsBG9w__el",
        "colab_type": "code",
        "colab": {}
      },
      "source": [
        "from sklearn.feature_extraction.text import CountVectorizer\n",
        "\n",
        "# data vectorizer\n",
        "vectorizer = CountVectorizer(analyzer = \"word\", \n",
        "                             binary = True, \n",
        "                             min_df = 2,\n",
        "                             stop_words='english')\n",
        "docarray = vectorizer.fit_transform(texts).toarray()\n",
        "docterm = pd.DataFrame(docarray, columns=vectorizer.get_feature_names())"
      ],
      "execution_count": 0,
      "outputs": []
    },
    {
      "cell_type": "code",
      "metadata": {
        "id": "STxtxwDtB-oR",
        "colab_type": "code",
        "colab": {}
      },
      "source": [
        "X_body_tfidf = tfidf.fit_transform(texts)\n",
        "X_train, X_test, y_train, y_test = train_test_split(X_body_tfidf,labels, test_size = 0.25, random_state=1234)"
      ],
      "execution_count": 0,
      "outputs": []
    },
    {
      "cell_type": "code",
      "metadata": {
        "id": "q4aAR3VMDEfS",
        "colab_type": "code",
        "colab": {}
      },
      "source": [
        "lr_body = LogisticRegression()"
      ],
      "execution_count": 0,
      "outputs": []
    },
    {
      "cell_type": "code",
      "metadata": {
        "id": "yQFescQSDSr2",
        "colab_type": "code",
        "colab": {}
      },
      "source": [
        "lr_body.fit(X_train, y_train)\n",
        "\n",
        "# get predictions for article section\n",
        "y_body_pred = lr_body.predict(X_test)"
      ],
      "execution_count": 0,
      "outputs": []
    },
    {
      "cell_type": "code",
      "metadata": {
        "id": "VhS6xlI0Fhww",
        "colab_type": "code",
        "colab": {}
      },
      "source": [
        "acc = accuracy_score(y_test, y_body_pred)"
      ],
      "execution_count": 0,
      "outputs": []
    },
    {
      "cell_type": "code",
      "metadata": {
        "id": "gbtKyh1hFuq1",
        "colab_type": "code",
        "colab": {
          "base_uri": "https://localhost:8080/",
          "height": 34
        },
        "outputId": "c5623bdf-00f7-4a15-8abf-418ec8f902fd"
      },
      "source": [
        "acc"
      ],
      "execution_count": 45,
      "outputs": [
        {
          "output_type": "execute_result",
          "data": {
            "text/plain": [
              "0.9160353535353535"
            ]
          },
          "metadata": {
            "tags": []
          },
          "execution_count": 45
        }
      ]
    },
    {
      "cell_type": "code",
      "metadata": {
        "id": "0WJR3xNbFvIn",
        "colab_type": "code",
        "colab": {}
      },
      "source": [
        ""
      ],
      "execution_count": 0,
      "outputs": []
    }
  ]
}